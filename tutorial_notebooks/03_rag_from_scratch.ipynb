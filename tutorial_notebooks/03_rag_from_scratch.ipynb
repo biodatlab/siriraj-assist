{
 "cells": [
  {
   "cell_type": "markdown",
   "metadata": {},
   "source": [
    "# RAG application for \"A Guide for First-Time Parents\"\n",
    "\n",
    "## Install tika and parse PDF file\n",
    "\n",
    "- Install libraries\n",
    "- Download PDF from the website [The Asian Parent](https://th.theasianparent.com/%E0%B8%84%E0%B8%B9%E0%B9%88%E0%B8%A1%E0%B8%B7%E0%B8%AD%E0%B8%94%E0%B8%B9%E0%B9%81%E0%B8%A5%E0%B8%A5%E0%B8%B9%E0%B8%81)\n",
    "- Parse a PDF file using `tika`\n",
    "- Clean text (using a simple created function)"
   ]
  },
  {
   "cell_type": "code",
   "execution_count": 17,
   "metadata": {},
   "outputs": [],
   "source": [
    "%%capture\n",
    "!pip install tika\n",
    "!pip install unidecode\n",
    "!pip install openai\n",
    "!pip install faiss-cpu==1.7.4"
   ]
  },
  {
   "cell_type": "code",
   "execution_count": 18,
   "metadata": {},
   "outputs": [],
   "source": [
    "import pandas as pd\n",
    "import numpy as np\n",
    "import faiss\n",
    "\n",
    "import tika\n",
    "tika.initVM()\n",
    "from tika import parser\n",
    "from unidecode import unidecode"
   ]
  },
  {
   "cell_type": "code",
   "execution_count": 19,
   "metadata": {},
   "outputs": [
    {
     "name": "stdout",
     "output_type": "stream",
     "text": [
      "86\n"
     ]
    }
   ],
   "source": [
    "parsed_book = parser.from_file(\"baby_0_3.pdf\")\n",
    "\n",
    "n_pages = int(parsed_book[\"metadata\"][\"xmpTPg:NPages\"])\n",
    "print(n_pages)"
   ]
  },
  {
   "cell_type": "code",
   "execution_count": 20,
   "metadata": {},
   "outputs": [],
   "source": [
    "def clean_text(text: str):\n",
    "    \"\"\"Clean parsed text from PDF for embedding\"\"\"\n",
    "    text = text.replace(\"\\uf70a\", \"่\")\n",
    "    text = text.replace(\"�ำ\", \"ำ\")\n",
    "    text = text.replace(\"�า\", \"ำ\")\n",
    "    return text"
   ]
  },
  {
   "cell_type": "code",
   "execution_count": 21,
   "metadata": {},
   "outputs": [],
   "source": [
    "content = parsed_book[\"content\"]\n",
    "content_processed = clean_text(content)\n",
    "pages = content_processed.split(\"\\n\\n\\n\\n\")"
   ]
  },
  {
   "cell_type": "code",
   "execution_count": 22,
   "metadata": {},
   "outputs": [],
   "source": [
    "pages_strip = [\" \".join(page.split()) for page in pages]  # strip extra spaces from page"
   ]
  },
  {
   "cell_type": "markdown",
   "metadata": {},
   "source": [
    "## Perform RAG for each page in the book\n",
    "\n",
    "- As we skim through, each page already contains a single content\n",
    "- Chunk information to default `chunk_size` of 2048"
   ]
  },
  {
   "cell_type": "code",
   "execution_count": 23,
   "metadata": {},
   "outputs": [],
   "source": [
    "def convert_page_to_chunk(page_text, chunk_size: int = 2048):\n",
    "    chunks = [page_text[i:i + chunk_size] for i in range(0, len(page_text), chunk_size)]\n",
    "    return chunks"
   ]
  },
  {
   "cell_type": "code",
   "execution_count": 24,
   "metadata": {},
   "outputs": [],
   "source": [
    "chunks = []\n",
    "for text in pages_strip:\n",
    "    chunks.extend(convert_page_to_chunk(text))"
   ]
  },
  {
   "cell_type": "code",
   "execution_count": 25,
   "metadata": {},
   "outputs": [
    {
     "data": {
      "text/plain": [
       "101"
      ]
     },
     "execution_count": 25,
     "metadata": {},
     "output_type": "execute_result"
    }
   ],
   "source": [
    "len(chunks)"
   ]
  },
  {
   "cell_type": "code",
   "execution_count": 35,
   "metadata": {},
   "outputs": [],
   "source": [
    "import json\n",
    "\n",
    "with open(\"baby_0_3.json\", \"w\") as f:\n",
    "    json.dump(chunks, f, indent=4, ensure_ascii=False)"
   ]
  },
  {
   "cell_type": "markdown",
   "metadata": {},
   "source": [
    "## Prompting using RAG\n",
    "\n",
    "- Embed text chunks with and store using `faiss`\n",
    "- Embed query using the same embedding script\n",
    "- Find the closest text chunks\n",
    "- Add information and perform RAG"
   ]
  },
  {
   "cell_type": "code",
   "execution_count": 26,
   "metadata": {},
   "outputs": [],
   "source": [
    "import os\n",
    "from openai import OpenAI\n",
    "from dotenv import load_dotenv\n",
    "load_dotenv()\n",
    "\n",
    "client = OpenAI()\n",
    "\n",
    "def get_embedding(text: str, model: str = \"text-embedding-3-small\"):\n",
    "    \"\"\"Function to perform text embedding, see options from OpenAI's website at\n",
    "\n",
    "    https://platform.openai.com/docs/guides/embeddings/embedding-models\n",
    "    \"\"\"\n",
    "    text = text.replace(\"\\n\", \" \")\n",
    "    return client.embeddings.create(input = [text], model=model).data[0].embedding"
   ]
  },
  {
   "cell_type": "code",
   "execution_count": 27,
   "metadata": {},
   "outputs": [],
   "source": [
    "text_chunks = pd.DataFrame(chunks, columns=[\"text\"])[\"text\"]\n",
    "text_embeddings = np.vstack(text_chunks.apply(get_embedding))"
   ]
  },
  {
   "cell_type": "code",
   "execution_count": 28,
   "metadata": {},
   "outputs": [
    {
     "name": "stdout",
     "output_type": "stream",
     "text": [
      "(101, 1536)\n"
     ]
    }
   ],
   "source": [
    "print(text_embeddings.shape) # shape of text embedding"
   ]
  },
  {
   "cell_type": "code",
   "execution_count": 29,
   "metadata": {},
   "outputs": [],
   "source": [
    "d = text_embeddings.shape[1]\n",
    "index = faiss.IndexFlatL2(d)\n",
    "index.add(text_embeddings)"
   ]
  },
  {
   "cell_type": "code",
   "execution_count": 30,
   "metadata": {},
   "outputs": [],
   "source": [
    "import pickle\n",
    "with open(\"faiss_index.pkl\", \"wb\") as f:\n",
    "    pickle.dump(index, f)"
   ]
  },
  {
   "cell_type": "code",
   "execution_count": 31,
   "metadata": {},
   "outputs": [
    {
     "name": "stdout",
     "output_type": "stream",
     "text": [
      "[[95 26]]\n"
     ]
    }
   ],
   "source": [
    "question = \"ถ้าลูกดูดนิ้วต้องทำอย่างไรบ้าง\"\n",
    "# question = \"ถ้าลูกดูดมือต้องทำอย่างไรบ้าง\" # prompt augmentation???\n",
    "question_embeddings = np.array([get_embedding(question)])\n",
    "\n",
    "D, I = index.search(question_embeddings, k=2)\n",
    "print(I)\n",
    "\n",
    "retrieved_chunk = [chunks[i] for i in I.tolist()[0]]"
   ]
  },
  {
   "cell_type": "code",
   "execution_count": 33,
   "metadata": {},
   "outputs": [
    {
     "data": {
      "text/plain": [
       "'82 ดูดนิ้ว การดดูนิว้เป็นพฤตกิรรมท่ีพบได้บ่อยและเกดิขึน้ได้ตามปกตขิองพฒันาการเดก็ เดก็เริม่ดดูนิว้ตัง้แต่ อยู่ในครรภ์มารดาจนถึง 2 ขวบ และมักจะค่อยๆ เลิกดูดไปเอง เด็กอาจดูดนิ้วมากขึ้นในบางภาวะ ได้แก่ เมื่อเครียด ง่วงนอน กังวล กลัว ถูกขัดใจ เหนื่อย หรือเวลาเพลินๆ เช่น ดูทีวี โดยทั่วไปแล้วการติดดูดนิ้วนี้ มักจะหายไปก่อนอายุ 5 ปี สาเหตุที่เด็กชอบดูดนิ้ว 1. เป็นพฤติกรรมตามธรรมชาติ ซึ่งพบบ่อยในระยะ 1 ขวบปีแรก 2. ถูกปล่อยให้ยึดติดกับพฤติกรรมน้ี โดยไม่ได้รับการฝึกฝนหรือเบี่ยงเบนแก้ไข จนเด็กติดกลาย เป็นนิสัย ไม่ยอมเลิกดูดนิ้วเมื่อโตขึ้น 3. เป็นวธีิการระบายความเครียดจากความวติกกงัวล เช่น การพลดัพรากจากพ่อแม่ ตืน่เต้น เป็นต้น 4. การเลี้ยงดูที่ไม่เหมาะสม เช่น ถูกทอดทิ้ง ขาดการกระตุ้น เป็นต้น วิธีการแก้ไข แม้ว่าการดูดนิ้วจะเป็นพฤติกรรมตามธรรมชาติ แต่จำเป็นต้องปรับลดให้หมดไปก่อนโต วิธีการที่ ใช้ได้ผล เช่น 1. ควรให้ความสนใจเด็ก โดยการเล่น หยอกล้อกับเด็ก เพื่อไม่ให้เด็กกระตุ้นตัวเองตามลำพัง 2. เบี่ยงเบนความสนใจ โดยใช้ของเล่นที่ต้องใช้มือหรือให้เด็กทำกิจกรรมอื่นๆ ที่ต้องใช้มือแทน 3. ให้เดก็ออกกำลงักายมากขึน้ช่วงเยน็เพือ่ช่วยให้หลบัง่ายขึน้ เป็นการลดระยะเวลาทีเ่ด็กจะกล่อม ตัวเองด้วยการดูดนิ้วในช่วงก่อนนอนให้สั้นลง 4. ปรับเปล่ียนลักษณะอาหารให้ต้องใช้การเค้ียวให้มากข้ึน โดยเฉพาะในวัย 8 เดือนขึ้นไป เพื่อ ทำให้กล้ามเนื้อบริเวณปาก คาง คอ ทำงานหนักขึ้น 5. ไม่ดวุ่า ทำโทษ หรอืไปสนใจกบัการดดูนิว้มากไป เพราะจะยิง่ทำให้เดก็เครยีดและดดูนิว้มากขึน้ 6. ในเดก็โต ควรค่อยๆ พดูอธบิายให้เดก็เข้าใจ และชมเชยเมือ่เดก็พยายามจะเลกิ ถึงแม้จะยงัเลกิ ไม่สำเร็จก็ตาม 7. หาสาเหตุที่ทำให้เด็กเครียด และพยายามช่วยแก้ไข 8. เด็กที่ดูดนิ้วนานๆ จนฟันแท้ขึ้น อาจมีปัญหาขบฟันได้ จึงควรปรึกษาทันตแพทย์ด้วย ปัญหาที่พบบ่อยในเด็กอายุ 0-3 ปี'"
      ]
     },
     "execution_count": 33,
     "metadata": {},
     "output_type": "execute_result"
    }
   ],
   "source": [
    "retrieved_chunk[0]"
   ]
  },
  {
   "cell_type": "markdown",
   "metadata": {},
   "source": [
    "Compare the prompt with (RAG) and without retrieved information"
   ]
  },
  {
   "cell_type": "code",
   "execution_count": 23,
   "metadata": {},
   "outputs": [],
   "source": [
    "def complete_text(prompt: str):\n",
    "    response = client.chat.completions.create(\n",
    "      model=\"gpt-3.5-turbo-0125\",\n",
    "      messages=[\n",
    "        {\"role\": \"system\", \"content\": \"You are a helpful assistant designed to generate output prompt for parent who are asking questions about newborn in Thai.\"},\n",
    "        {\"role\": \"user\", \"content\": prompt}\n",
    "      ]\n",
    "    )\n",
    "    return response.choices[0].message.content"
   ]
  },
  {
   "cell_type": "code",
   "execution_count": 24,
   "metadata": {},
   "outputs": [],
   "source": [
    "prompt_with_context = f\"\"\"\n",
    "Context information is below.\n",
    "---------------------\n",
    "{retrieved_chunk}\n",
    "---------------------\n",
    "Given the context information and not prior knowledge, answer the given query in Thai. The answer should be concise and clear.\n",
    "Query: {question}\n",
    "Answer:\n",
    "\"\"\"\n",
    "\n",
    "prompt_no_context = f\"\"\"\n",
    "Answer the given query in Thai. The answer should be concise and clear.\n",
    "Query: {question}\n",
    "Answer:\n",
    "\"\"\""
   ]
  },
  {
   "cell_type": "code",
   "execution_count": 25,
   "metadata": {},
   "outputs": [
    {
     "name": "stdout",
     "output_type": "stream",
     "text": [
      "การให้ลูกดูดนิ้วเป็นเรื่องปกติ ไม่จำเป็นต้องทำอะไรเพิ่มเติม สามารถให้ลูกดูดนิ้วได้เพราะเป็นการทำให้ลูกรู้สึกถูกประทับใจและปลอดภัย แต่ควรตรวจสอบว่านิ้วมือสะอาดเสมอ และเก็บแผ่นเคราและรัดฝาตีนเท้าให้ลูกได้นิดๆ บ้างเพื่อป้องกันการกระแทกกระทบผิวของลูกได้บ้าง\n"
     ]
    }
   ],
   "source": [
    "output_no_rag = complete_text(prompt_no_context)\n",
    "print(output_no_rag)"
   ]
  },
  {
   "cell_type": "code",
   "execution_count": 26,
   "metadata": {},
   "outputs": [
    {
     "name": "stdout",
     "output_type": "stream",
     "text": [
      "การดูดนิ้วเป็นพฤติกรรมที่พบได้ในเด็ก โดยมักจะหายไปเองก่อนอายุ 5 ปี วิธีการช่วยลูกเลิกดูดนิ้วได้รวมถึงการเล่นกับเด็กเพื่อไม่ให้กระตุ้นตัวเอง, เบี่ยงเบนความสนใจไปที่กิจกรรมอื่น, และช่วยลูกระบายความเครียดด้วยวิธีการต่างๆ คุณสามารถปรับลดพฤติกรรมดูดนิ้วได้ด้วยวิธีดังกล่าว.\n"
     ]
    }
   ],
   "source": [
    "output_rag = complete_text(prompt_with_context)\n",
    "print(output_rag)"
   ]
  }
 ],
 "metadata": {
  "kernelspec": {
   "display_name": "rag_hackathon",
   "language": "python",
   "name": "python3"
  },
  "language_info": {
   "codemirror_mode": {
    "name": "ipython",
    "version": 3
   },
   "file_extension": ".py",
   "mimetype": "text/x-python",
   "name": "python",
   "nbconvert_exporter": "python",
   "pygments_lexer": "ipython3",
   "version": "3.11.8"
  }
 },
 "nbformat": 4,
 "nbformat_minor": 2
}
