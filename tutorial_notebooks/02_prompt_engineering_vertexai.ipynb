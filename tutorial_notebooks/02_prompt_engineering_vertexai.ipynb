{
  "cells": [
    {
      "cell_type": "markdown",
      "metadata": {
        "id": "TR4kys1-cWc0"
      },
      "source": [
        "## Introduction to Prompt Engineering"
      ]
    },
    {
      "cell_type": "code",
      "execution_count": 1,
      "metadata": {
        "id": "4slPE-tbcisr"
      },
      "outputs": [],
      "source": [
        "%%capture\n",
        "!pip install faker google-cloud-aiplatform"
      ]
    },
    {
      "cell_type": "code",
      "execution_count": 2,
      "metadata": {
        "id": "ilVHSk347Wmo"
      },
      "outputs": [],
      "source": [
        "from google.oauth2 import service_account\n",
        "from google.cloud import aiplatform\n",
        "from vertexai.language_models import TextGenerationModel"
      ]
    },
    {
      "cell_type": "code",
      "execution_count": 4,
      "metadata": {},
      "outputs": [],
      "source": [
        "model_name = \"text-bison\"\n",
        "project = \"protean-sunup-89503\"\n",
        "service_account_path = \"service_account.json\"\n",
        "\n",
        "credentials = service_account.Credentials.from_service_account_file(service_account_path)\n",
        "aiplatform.init(project=\"protean-sunup-89503\", credentials=credentials)\n",
        "gen_model = TextGenerationModel.from_pretrained(model_name)"
      ]
    },
    {
      "cell_type": "code",
      "execution_count": 7,
      "metadata": {
        "id": "hqjsd-cpcnV_"
      },
      "outputs": [],
      "source": [
        "def get_completion(prompt: str, temperature: float = 0.0, top_p: float = 0.95, top_k: int = 40, max_output_tokens: int = 2048):\n",
        "        parameters = {\n",
        "            'temperature': temperature,\n",
        "            'top_p': top_p,\n",
        "            'top_k': top_k,\n",
        "            'max_output_tokens': max_output_tokens\n",
        "        }\n",
        "        return gen_model.predict(prompt, **parameters).text"
      ]
    },
    {
      "cell_type": "code",
      "execution_count": 8,
      "metadata": {
        "colab": {
          "base_uri": "https://localhost:8080/"
        },
        "id": "gY2uJvrtdPX_",
        "outputId": "636687a9-47ee-4456-f75f-7b63742d841a"
      },
      "outputs": [
        {
          "name": "stdout",
          "output_type": "stream",
          "text": [
            " ```json\n",
            "[\n",
            "  {\n",
            "    \"book_id\": 1,\n",
            "    \"title\": \"ความลับของป่าต้องห้าม\",\n",
            "    \"author\": \"จินตนาการ\",\n",
            "    \"genre\": \"ผจญภัย\"\n",
            "  },\n",
            "  {\n",
            "    \"book_id\": 2,\n",
            "    \"title\": \"รักนี้ไม่มีวันตาย\",\n",
            "    \"author\": \"โรแมนติก\",\n",
            "    \"genre\": \"รัก\"\n",
            "  },\n",
            "  {\n",
            "    \"book_id\": 3,\n",
            "    \"title\": \"ฆาตกรรมบนรถไฟ\",\n",
            "    \"author\": \"สืบสวนสอบสวน\",\n",
            "    \"genre\": \"อาชญากรรม\"\n",
            "  }\n",
            "]\n",
            "```\n"
          ]
        }
      ],
      "source": [
        "prompt = f\"\"\"\n",
        "Generate a list of three made-up book titles along \\\n",
        "with their authors and genres.\n",
        "Provide them in JSON format with the following keys:\n",
        "book_id, title, author, genre where title and author are in Thai.\n",
        "\"\"\"\n",
        "response = get_completion(prompt)\n",
        "print(response)"
      ]
    },
    {
      "cell_type": "code",
      "execution_count": 9,
      "metadata": {
        "id": "X0H31AwGdsUY"
      },
      "outputs": [],
      "source": [
        "text = \"\"\"นายชัชชาติ สิทธิพันธุ์ ผู้ว่าราชการกรุงเทพมหานคร เป็นประธานพิธีเปิดกิจกรรม \"Colorful คลองบางลำพู\" ณ บริเวณสะพานนรรัตน์สถาน ริมคลองบางลำพู เขตพระนคร\n",
        "\n",
        "ผู้ว่าฯ ชัชชาติ กล่าวว่า Colorful คลองบางลำพูเป็นโครงการต่อเนื่อง ในการฟื้นฟูเมืองเก่าเริ่มตั้งแต่คลองผดุงกรุงเกษม คลองโอ่งอ่าง คลองบางลำพู และคลองคูเมืองเดิม ซึ่งเป็นจุดที่เป็นอัตลักษณ์ของเมือง หากสัญจรผ่านไปมาก็จะเห็นว่าตึกมีสภาพสีเก่าและเจ้าของอาคารไม่ใช่เจ้าของเดียวกัน\n",
        "\n",
        "โดยมีอาจารย์ประจำคณะมัณฑนศิลป์ ภาควิชาออกแบบนิเทศศิลป์ มหาวิทยาลัยศิลปากร มาช่วยออกแบบสีให้เนื่องจากพื้นที่ตรงคลองบางลำพูต้องเป็นไปตามรูปแบบของกรรมการเกาะรัตนโกสินทร์ ดังนั้นสีของตึกที่ทาจะเป็นโทนสีครีม\n",
        "\n",
        "ด้าน ดร.ไพโรจน์ พิทยเมธี อาจารย์ประจำคณะมัณฑนศิลป์ กล่าวว่า เราเลือกเฉดสีที่เป็นสีเนื้อ สีนวล สีนวลจันทร์ สีขาวผ่อง สลับทาในแต่ละอาคาร ในส่วนกรอบหน้าต่างจะทาสีชาดหรือสีท้องสิงห์เพื่อเพิ่มความสนุกเข้าไป เมื่อดำเนินการทาสีเรียบร้อยแล้วคิดว่าจะเกิดความเป็นระเบียบเรียบร้อยและสวยงามให้กับคลองบางลำพู\n",
        "\n",
        "ผู้ว่าฯ ชัชชาติ ยังกล่าวอีกว่า ต้องขอขอบคุณทางสีเบเยอร์ที่ได้ให้สีมา หากจะใช้งบประมาณหลวงไปทาสีอาคารเอกชนนั้นทำไม่ได้ อีกทั้งต้องขอขอบคุณทางกลุ่มสมาคมการค้าธุรกิจในแม่น้ำเจ้าพระยา ทหารจากกองทัพบก มาร่วมกันช่วยทาสีด้วย และผู้ประกอบการในพื้นที่ก็ให้ความร่วมมือเป็นอย่างดี ถือเป็นนิมิตหมายที่ดีเพราะเมืองจะสวยได้ไม่ใช่จากกทม. ทำคนเดียว แต่ต้องร่วมมือกับทุกภาคส่วน\n",
        "\"\"\""
      ]
    },
    {
      "cell_type": "code",
      "execution_count": 10,
      "metadata": {
        "colab": {
          "base_uri": "https://localhost:8080/"
        },
        "id": "x5MB1w50dulK",
        "outputId": "24caf842-6c47-456f-c618-06d72c7faaef"
      },
      "outputs": [
        {
          "name": "stdout",
          "output_type": "stream",
          "text": [
            " 1. นายชัชชาติ สิทธิพันธุ์ ผู้ว่าราชการกรุงเทพมหานคร เป็นประธานเปิดกิจกรรม \"Colorful คลองบางลำพู\" บริเวณสะพานนรรัตน์สถาน ริมคลองบางลำพู เขตพระนคร\n",
            "2. โครงการต่อเนื่องฟื้นฟูเมืองเก่า หลังคลองผดุงกรุงเกษม คลองโอ่งอ่าง และคลองคูเมืองเดิม\n",
            "3. อาจารย์มหาวิทยาลัยศิลปากรช่วยออกแบบสี เนื่องจากต้องเป็นไปตามรูปแบบของกรรมการเกาะรัตนโกสินทร์ จึงใช้โทนสีครีม\n",
            "4. เลือกเฉดสีที่เป็นสีเนื้อ สีนวล สีนวลจันทร์ สีขาวผ่อง สลับทาในแต่ละอาคาร กรอบหน้าต่างทาสีชาดหรือสีท้องสิงห์\n",
            "5. ผู้ว่าฯ ชัชชาติขอบคุณสีเบเยอร์ที่ให้สีมา และขอบคุณกลุ่มสมาคมการค้าธุรกิจในแม่น้ำเจ้าพระยา ทหารจากกองทัพบก ผู้ประกอบการในพื้นที่ที่ให้ความร่วมมือ\n"
          ]
        }
      ],
      "source": [
        "prompt = f\"\"\"\n",
        "You will be provided with text delimited by triple quotes.\n",
        "If it contains a content from Thai news article, \\\n",
        "re-write and summarize the given text in the following format and the output should be in Thai.\n",
        "Do not hallucinate.:\n",
        "\n",
        "1. ...\n",
        "2. …\n",
        "…\n",
        "N. …\n",
        "\n",
        "If the text does not contain anything that can be summarized, \\\n",
        "then simply write \\\"No need to summarize.\\\"\n",
        "\n",
        "\\\"\\\"\\\"{text}\\\"\\\"\\\"\n",
        "\"\"\"\n",
        "\n",
        "response = get_completion(prompt)\n",
        "print(response)"
      ]
    },
    {
      "cell_type": "code",
      "execution_count": 11,
      "metadata": {
        "colab": {
          "base_uri": "https://localhost:8080/"
        },
        "id": "gJrUKPhZo3hr",
        "outputId": "531a6948-7ffe-4f6e-84f2-cc74e59f484f"
      },
      "outputs": [
        {
          "name": "stdout",
          "output_type": "stream",
          "text": [
            " ---\n",
            "**Panda Plush Toy Review**\n",
            "\n",
            "Cute and soft panda plush toy, perfect for kids. Compact size, slightly overpriced. Arrived early.\n",
            "\n",
            "---\n"
          ]
        }
      ],
      "source": [
        "prod_review = \"\"\"\n",
        "Got this panda plush toy for my daughter's birthday, \\\n",
        "who loves it and takes it everywhere. It's soft and \\\n",
        "super cute, and its face has a friendly look. It's \\\n",
        "a bit small for what I paid though. I think there \\\n",
        "might be other options that are bigger for the \\\n",
        "same price. It arrived a day earlier than expected, \\\n",
        "so I got to play with it myself before I gave it \\\n",
        "to her.\n",
        "\"\"\"\n",
        "\n",
        "prompt = f\"\"\"\n",
        "Your task is to generate a short summary of a product \\\n",
        "review from an ecommerce site.\n",
        "\n",
        "Summarize the review below, delimited by triple\n",
        "backticks, in at most 30 words.\n",
        "\n",
        "Review: ```{prod_review}```\n",
        "\"\"\"\n",
        "\n",
        "response = get_completion(prompt)\n",
        "print(response)"
      ]
    },
    {
      "cell_type": "code",
      "execution_count": 12,
      "metadata": {
        "colab": {
          "base_uri": "https://localhost:8080/"
        },
        "id": "fEUtxTFzo_7-",
        "outputId": "adeb064b-1016-4f91-e724-0f3f99472220"
      },
      "outputs": [
        {
          "name": "stdout",
          "output_type": "stream",
          "text": [
            " Arrived a day earlier than expected.\n"
          ]
        }
      ],
      "source": [
        "prompt = f\"\"\"\n",
        "Your task is to extract relevant information from \\\n",
        "a product review from an ecommerce site to give \\\n",
        "feedback to the Shipping department.\n",
        "\n",
        "From the review below, delimited by triple quotes \\\n",
        "extract the information relevant to shipping and \\\n",
        "delivery. Limit to 30 words.\n",
        "\n",
        "Review: ```{prod_review}```\n",
        "\"\"\"\n",
        "\n",
        "response = get_completion(prompt)\n",
        "print(response)"
      ]
    },
    {
      "cell_type": "code",
      "execution_count": 13,
      "metadata": {
        "colab": {
          "base_uri": "https://localhost:8080/"
        },
        "id": "4qoykDtCpHgL",
        "outputId": "ffd44d90-3aef-46da-acf9-c0667724d404"
      },
      "outputs": [
        {
          "name": "stdout",
          "output_type": "stream",
          "text": [
            " ```\n",
            "Cute and soft panda plush toy, well-received by child. Slightly overpriced for its size compared to alternatives.\n",
            "```\n"
          ]
        }
      ],
      "source": [
        "prompt = f\"\"\"\n",
        "Your task is to generate a short summary of a product \\\n",
        "review from an ecommerce site to give feedback to the \\\n",
        "pricing deparmtment, responsible for determining the \\\n",
        "price of the product.\n",
        "\n",
        "Summarize the review below, delimited by triple\n",
        "backticks, in at most 30 words, and focusing on any aspects \\\n",
        "that are relevant to the price and perceived value.\n",
        "\n",
        "Review: ```{prod_review}```\n",
        "\"\"\"\n",
        "\n",
        "response = get_completion(prompt)\n",
        "print(response)"
      ]
    },
    {
      "cell_type": "code",
      "execution_count": 14,
      "metadata": {
        "colab": {
          "base_uri": "https://localhost:8080/"
        },
        "id": "6FUV902jeKdF",
        "outputId": "cb59a88b-4966-4f46-c811-fcc093040935"
      },
      "outputs": [
        {
          "name": "stdout",
          "output_type": "stream",
          "text": [
            " <grandparent>: The willow tree bends with the wind, yet its roots remain firmly anchored in the earth; the ocean wave crashes against the shore, yet the coastline endures; the human spirit faces adversity, yet its essence remains unyielding.\n"
          ]
        }
      ],
      "source": [
        "# Few shot prompting\n",
        "\n",
        "prompt = f\"\"\"\n",
        "Your task is to answer in a consistent style.\n",
        "\n",
        "<child>: Teach me about patience.\n",
        "\n",
        "<grandparent>: The river that carves the deepest \\\n",
        "valley flows from a modest spring; the \\\n",
        "grandest symphony originates from a single note; \\\n",
        "the most intricate tapestry begins with a solitary thread.\n",
        "\n",
        "<child>: Teach me about resilience.\n",
        "\"\"\"\n",
        "response = get_completion(prompt)\n",
        "print(response)"
      ]
    },
    {
      "cell_type": "code",
      "execution_count": 15,
      "metadata": {
        "colab": {
          "base_uri": "https://localhost:8080/"
        },
        "id": "OY2Hj6wKhVYN",
        "outputId": "c8d61d13-179f-43bb-c46b-8208a4500122"
      },
      "outputs": [
        {
          "name": "stdout",
          "output_type": "stream",
          "text": [
            " สวัสดีครับ คุณต้องการให้ผมช่วยอะไรไหมครับ\n"
          ]
        }
      ],
      "source": [
        "# Transforming\n",
        "\n",
        "text = \"Good morning sir, how can I help you today?\"\n",
        "prompt = f\"\"\"Please translate the given English sentence into Thai.\n",
        "\n",
        "```{text}\n",
        "```\n",
        "\"\"\"\n",
        "response = get_completion(prompt)\n",
        "print(response)"
      ]
    },
    {
      "cell_type": "code",
      "execution_count": 16,
      "metadata": {
        "colab": {
          "base_uri": "https://localhost:8080/"
        },
        "id": "_mGLbYepmFkj",
        "outputId": "3e8eaa5e-fe6a-4c99-f17e-c3b3c09065f3"
      },
      "outputs": [
        {
          "name": "stdout",
          "output_type": "stream",
          "text": [
            " Dear [Recipient's Name],\n",
            "\n",
            "I hope this email finds you well. My name is Joe, and I am writing to you today to share a specification for a standing lamp that I believe may be of interest to your company.\n",
            "\n",
            "I have attached the specification to this email for your review. As you will see, the lamp is made of high-quality materials and features a unique design that is both stylish and functional. I believe that this lamp would be a valuable addition to your product line, and I am confident that it would be well-received by your customers.\n",
            "\n",
            "I would be happy to discuss this opportunity with you further and answer any questions you may have. Please do not hesitate to contact me at your convenience.\n",
            "\n",
            "Thank you for your time and consideration.\n",
            "\n",
            "Sincerely,\n",
            "Joe\n"
          ]
        }
      ],
      "source": [
        "# Tone transformation\n",
        "\n",
        "prompt = f\"\"\"\n",
        "Translate the following from slang to a business letter:\n",
        "'Dude, This is Joe, check out this spec on this standing lamp.'\n",
        "\"\"\"\n",
        "response = get_completion(prompt)\n",
        "print(response)"
      ]
    },
    {
      "cell_type": "code",
      "execution_count": 17,
      "metadata": {
        "colab": {
          "base_uri": "https://localhost:8080/"
        },
        "id": "r5Gah39dhv6t",
        "outputId": "e9d38f3e-b56f-4929-8ef3-dc5d7f001509"
      },
      "outputs": [
        {
          "name": "stdout",
          "output_type": "stream",
          "text": [
            " สวัสดีครับ คุณลูกค้า\n",
            "\n",
            "ขอบคุณสำหรับการรีวิวสินค้าของเราครับ ทางเรารู้สึกยินดีเป็นอย่างยิ่งที่คุณลูกค้าพึงพอใจในสินค้าและบริการของเราครับ\n",
            "\n",
            "สำหรับสินค้าที่คุณลูกค้าสั่งไปนั้น ทางเราได้ดำเนินการจัดส่งเรียบร้อยแล้วครับ โดยเลขที่ติดตามพัสดุคือ 1234567890 คุณลูกค้าสามารถตรวจสอบสถานะการจัดส่งได้ที่เว็บไซต์ของบริษัทขนส่งครับ\n",
            "\n",
            "หากคุณลูกค้ามีข้อสงสัยหรือต้องการสอบถามข้อมูลเพิ่มเติม สามารถติดต่อฝ่ายบริการลูกค้าของเราได้ที่อีเมล [email protected] หรือโทร 02-123-4567 ครับ\n",
            "\n",
            "ขอขอบคุณที่ใช้บริการครับ\n",
            "\n",
            "AI customer agent\n"
          ]
        }
      ],
      "source": [
        "review = \"สวัสดีครับ อยากสอบถามเกี่ยวกับสินค้าที่สั่งไปว่าส่งเรียบร้อยมั้ยครับ พอดีสั่งไปตั้งแต่วันที่ 7 มกราคม ยังไม่เห็นจัดส่งครับผม รอมานานแล้วทำไมร้านดำเนินการช้า ไม่จัดส่งสักที\"\n",
        "prompt = f\"\"\"\n",
        "You are a customer service AI assistant that speaks Thai.\n",
        "Your task is to send an email reply to a valued customer.\n",
        "Given the customer email delimited by ```, \\\n",
        "Generate a reply to thank the customer for their review in Thai.\n",
        "If the sentiment is positive or neutral, thank them for \\\n",
        "their review.\n",
        "If the sentiment is negative, apologize and suggest that \\\n",
        "they can reach out to customer service.\n",
        "Make sure to use specific details from the review.\n",
        "Write in a concise and professional tone.\n",
        "Sign the email as `AI customer agent`.\n",
        "Customer review: ```{review}```\n",
        "\"\"\"\n",
        "response = get_completion(prompt)\n",
        "print(response)"
      ]
    },
    {
      "cell_type": "code",
      "execution_count": 18,
      "metadata": {
        "colab": {
          "base_uri": "https://localhost:8080/"
        },
        "id": "rG0ZGGv_ftIs",
        "outputId": "9d828830-64e8-4b4a-ed2b-1b04989e0cca"
      },
      "outputs": [
        {
          "name": "stdout",
          "output_type": "stream",
          "text": [
            " ขออภัย ฉันไม่มีข้อมูลเกี่ยวกับงานศิลปะที่ทำจากขยะที่จัดขึ้นที่สีลมในปี พ.ศ. 2566 เนื่องจากความรู้ของฉันจำกัดอยู่จนถึงเดือนกันยายน พ.ศ. 2565 เท่านั้น ฉันจึงไม่สามารถให้ข้อมูลเกี่ยวกับกิจกรรมที่เกิดขึ้นหลังจากนั้นได้\n"
          ]
        }
      ],
      "source": [
        "# Hallucination\n",
        "\n",
        "prompt = f\"\"\"\n",
        "Tell me about งานศิลปะที่ทำจากขยะที่จัดขึ้นที่สีลม ปี พ.ศ. 2566\n",
        "\"\"\"\n",
        "response = get_completion(prompt)\n",
        "print(response)"
      ]
    }
  ],
  "metadata": {
    "accelerator": "GPU",
    "colab": {
      "gpuType": "T4",
      "provenance": []
    },
    "kernelspec": {
      "display_name": "Python 3",
      "name": "python3"
    },
    "language_info": {
      "codemirror_mode": {
        "name": "ipython",
        "version": 3
      },
      "file_extension": ".py",
      "mimetype": "text/x-python",
      "name": "python",
      "nbconvert_exporter": "python",
      "pygments_lexer": "ipython3",
      "version": "3.11.8"
    }
  },
  "nbformat": 4,
  "nbformat_minor": 0
}
