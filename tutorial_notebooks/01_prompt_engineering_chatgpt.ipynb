{
  "cells": [
    {
      "cell_type": "markdown",
      "metadata": {
        "id": "TR4kys1-cWc0"
      },
      "source": [
        "## Introduction to Prompt Engineering\n",
        "\n",
        "Reference: https://www.deeplearning.ai/short-courses/chatgpt-prompt-engineering-for-developers/"
      ]
    },
    {
      "cell_type": "code",
      "execution_count": 1,
      "metadata": {
        "id": "4slPE-tbcisr"
      },
      "outputs": [],
      "source": [
        "%%capture\n",
        "!pip install openai"
      ]
    },
    {
      "cell_type": "code",
      "execution_count": 2,
      "metadata": {
        "id": "ilVHSk347Wmo"
      },
      "outputs": [
        {
          "data": {
            "text/plain": [
              "'1.13.3'"
            ]
          },
          "execution_count": 2,
          "metadata": {},
          "output_type": "execute_result"
        }
      ],
      "source": [
        "import openai\n",
        "openai.__version__"
      ]
    },
    {
      "cell_type": "code",
      "execution_count": 3,
      "metadata": {
        "id": "ROn3nZt4cDOZ"
      },
      "outputs": [],
      "source": [
        "import os\n",
        "from openai import OpenAI\n",
        "from dotenv import load_dotenv\n",
        "load_dotenv()\n",
        "\n",
        "# Log-in to ChatGPT website, select API keys\n",
        "# Click \"+ Create new secret key\", Copy to the line below\n",
        "client = OpenAI()"
      ]
    },
    {
      "cell_type": "markdown",
      "metadata": {
        "id": "ExKTxtIMcwdR"
      },
      "source": [
        "There are multiple models available which can be found in ChatGPT website: https://platform.openai.com/docs/models/continuous-model-upgrades"
      ]
    },
    {
      "cell_type": "code",
      "execution_count": 4,
      "metadata": {
        "id": "hqjsd-cpcnV_"
      },
      "outputs": [],
      "source": [
        "def get_completion(prompt: str):\n",
        "    response = client.chat.completions.create(\n",
        "        model=\"gpt-3.5-turbo\",\n",
        "        messages=[{\"role\": \"user\", \"content\": prompt}]\n",
        "    )\n",
        "    return response.choices[0].message.content.strip()"
      ]
    },
    {
      "cell_type": "code",
      "execution_count": 5,
      "metadata": {
        "colab": {
          "base_uri": "https://localhost:8080/"
        },
        "id": "gY2uJvrtdPX_",
        "outputId": "636687a9-47ee-4456-f75f-7b63742d841a"
      },
      "outputs": [
        {
          "name": "stdout",
          "output_type": "stream",
          "text": [
            "[\n",
            "    {\n",
            "        \"book_id\": 1,\n",
            "        \"title\": \"เงินหายาก\",\n",
            "        \"author\": \"สมชาย ปราบสาน\",\n",
            "        \"genre\": \"อาชญากรรม\"\n",
            "    },\n",
            "    {\n",
            "        \"book_id\": 2,\n",
            "        \"title\": \"โสภาศาสตร์\",\n",
            "        \"author\": \"สุรชาติ สงสัย\",\n",
            "        \"genre\": \"วิทยาศาสตร์\"\n",
            "    },\n",
            "    {\n",
            "        \"book_id\": 3,\n",
            "        \"title\": \"รอยยิ้มของวันหนึ่ง\",\n",
            "        \"author\": \"วรรณิช สุขสาธุ\",\n",
            "        \"genre\": \"โรแมนติก\"\n",
            "    }\n",
            "]\n"
          ]
        }
      ],
      "source": [
        "prompt = f\"\"\"\n",
        "Generate a list of three made-up book titles along \\\n",
        "with their authors and genres.\n",
        "Provide them in JSON format with the following keys:\n",
        "book_id, title, author, genre where title and author are in Thai.\n",
        "\"\"\"\n",
        "response = get_completion(prompt)\n",
        "print(response)"
      ]
    },
    {
      "cell_type": "code",
      "execution_count": 6,
      "metadata": {
        "id": "X0H31AwGdsUY"
      },
      "outputs": [],
      "source": [
        "text = \"\"\"นายชัชชาติ สิทธิพันธุ์ ผู้ว่าราชการกรุงเทพมหานคร เป็นประธานพิธีเปิดกิจกรรม \"Colorful คลองบางลำพู\" ณ บริเวณสะพานนรรัตน์สถาน ริมคลองบางลำพู เขตพระนคร\n",
        "\n",
        "ผู้ว่าฯ ชัชชาติ กล่าวว่า Colorful คลองบางลำพูเป็นโครงการต่อเนื่อง ในการฟื้นฟูเมืองเก่าเริ่มตั้งแต่คลองผดุงกรุงเกษม คลองโอ่งอ่าง คลองบางลำพู และคลองคูเมืองเดิม ซึ่งเป็นจุดที่เป็นอัตลักษณ์ของเมือง หากสัญจรผ่านไปมาก็จะเห็นว่าตึกมีสภาพสีเก่าและเจ้าของอาคารไม่ใช่เจ้าของเดียวกัน\n",
        "\n",
        "โดยมีอาจารย์ประจำคณะมัณฑนศิลป์ ภาควิชาออกแบบนิเทศศิลป์ มหาวิทยาลัยศิลปากร มาช่วยออกแบบสีให้เนื่องจากพื้นที่ตรงคลองบางลำพูต้องเป็นไปตามรูปแบบของกรรมการเกาะรัตนโกสินทร์ ดังนั้นสีของตึกที่ทาจะเป็นโทนสีครีม\n",
        "\n",
        "ด้าน ดร.ไพโรจน์ พิทยเมธี อาจารย์ประจำคณะมัณฑนศิลป์ กล่าวว่า เราเลือกเฉดสีที่เป็นสีเนื้อ สีนวล สีนวลจันทร์ สีขาวผ่อง สลับทาในแต่ละอาคาร ในส่วนกรอบหน้าต่างจะทาสีชาดหรือสีท้องสิงห์เพื่อเพิ่มความสนุกเข้าไป เมื่อดำเนินการทาสีเรียบร้อยแล้วคิดว่าจะเกิดความเป็นระเบียบเรียบร้อยและสวยงามให้กับคลองบางลำพู\n",
        "\n",
        "ผู้ว่าฯ ชัชชาติ ยังกล่าวอีกว่า ต้องขอขอบคุณทางสีเบเยอร์ที่ได้ให้สีมา หากจะใช้งบประมาณหลวงไปทาสีอาคารเอกชนนั้นทำไม่ได้ อีกทั้งต้องขอขอบคุณทางกลุ่มสมาคมการค้าธุรกิจในแม่น้ำเจ้าพระยา ทหารจากกองทัพบก มาร่วมกันช่วยทาสีด้วย และผู้ประกอบการในพื้นที่ก็ให้ความร่วมมือเป็นอย่างดี ถือเป็นนิมิตหมายที่ดีเพราะเมืองจะสวยได้ไม่ใช่จากกทม. ทำคนเดียว แต่ต้องร่วมมือกับทุกภาคส่วน\n",
        "\"\"\""
      ]
    },
    {
      "cell_type": "code",
      "execution_count": 7,
      "metadata": {
        "colab": {
          "base_uri": "https://localhost:8080/"
        },
        "id": "x5MB1w50dulK",
        "outputId": "24caf842-6c47-456f-c618-06d72c7faaef"
      },
      "outputs": [
        {
          "name": "stdout",
          "output_type": "stream",
          "text": [
            "1. นายชัชชาติ สิทธิพันธุ์ ประธานพิธีเปิดกิจกรรม \"Colorful คลองบางลำพู\" ณ บริเวณสะพานนรรัตน์สถาน ริมคลองบางลำพู เขตพระนคร\n",
            "2. Colorful คลองบางลำพู เป็นโครงการฟื้นฟูเมืองเก่า โดยมีอาจารย์ประจำคณะมัณฑนศิลป์ช่วยออกแบบสี ให้เนื่องของคลองบางลำพูเป็นสีครีม\n",
            "3. อาจารย์ประจำคณะมัณฑนศิลป์เลือกสีสีเนื้อ สีนวล สีนวลจันทร์ สีขาวผ่อง และสีชาดหรือสีท้องสิงห์ ในการทาสีของตึกแต่ละอาคาร\n",
            "4. คณะมัณฑนศิลป์ขอขอบคุณทางสีเบเยอร์ กลุ่มสมาคมการค้าธุรกิจในแม่น้ำเจ้าพระยา และผู้ประกอบการในพื้นที่ ในการช่วยทาสีให้กับโครงการ\n",
            "5. ชัชชาติ สิทธิพันธุ์ กล่าวว่าการฟื้นฟูเมืองเก่าต้องร่วมมือกันทุกภาคส่วน\n",
            "\n",
            "***คลองบางลำพูถือเป็นจุดท่องเที่ยวที่สำคัญของกรุงเทพมหานครและในการตกแต่งใหม่โครงการ Colorful คลองบางลำพู จะช่วยเพิ่มความสวยงามและเป็นจุดสนใจให้กับที่นี้***\n"
          ]
        }
      ],
      "source": [
        "prompt = f\"\"\"\n",
        "You will be provided with text delimited by triple quotes.\n",
        "If it contains a content from Thai news article, \\\n",
        "re-write and summarize the given text in the following format and the output should be in Thai.\n",
        "Do not hallucinate.:\n",
        "\n",
        "1. ...\n",
        "2. …\n",
        "…\n",
        "N. …\n",
        "\n",
        "If the text does not contain anything that can be summarized, \\\n",
        "then simply write \\\"No need to summarize.\\\"\n",
        "\n",
        "\\\"\\\"\\\"{text}\\\"\\\"\\\"\n",
        "\"\"\"\n",
        "\n",
        "response = get_completion(prompt)\n",
        "print(response)"
      ]
    },
    {
      "cell_type": "code",
      "execution_count": 8,
      "metadata": {
        "colab": {
          "base_uri": "https://localhost:8080/"
        },
        "id": "gJrUKPhZo3hr",
        "outputId": "531a6948-7ffe-4f6e-84f2-cc74e59f484f"
      },
      "outputs": [
        {
          "name": "stdout",
          "output_type": "stream",
          "text": [
            "Summary: \n",
            "Panda plush toy is soft, cute, and arrived early, loved by daughter but smaller than expected for the price.\n"
          ]
        }
      ],
      "source": [
        "prod_review = \"\"\"\n",
        "Got this panda plush toy for my daughter's birthday, \\\n",
        "who loves it and takes it everywhere. It's soft and \\\n",
        "super cute, and its face has a friendly look. It's \\\n",
        "a bit small for what I paid though. I think there \\\n",
        "might be other options that are bigger for the \\\n",
        "same price. It arrived a day earlier than expected, \\\n",
        "so I got to play with it myself before I gave it \\\n",
        "to her.\n",
        "\"\"\"\n",
        "\n",
        "prompt = f\"\"\"\n",
        "Your task is to generate a short summary of a product \\\n",
        "review from an ecommerce site.\n",
        "\n",
        "Summarize the review below, delimited by triple\n",
        "backticks, in at most 30 words.\n",
        "\n",
        "Review: ```{prod_review}```\n",
        "\"\"\"\n",
        "\n",
        "response = get_completion(prompt)\n",
        "print(response)"
      ]
    },
    {
      "cell_type": "code",
      "execution_count": 9,
      "metadata": {
        "colab": {
          "base_uri": "https://localhost:8080/"
        },
        "id": "fEUtxTFzo_7-",
        "outputId": "adeb064b-1016-4f91-e724-0f3f99472220"
      },
      "outputs": [
        {
          "name": "stdout",
          "output_type": "stream",
          "text": [
            "Feedback: \"The item arrived a day earlier than expected, which was a pleasant surprise. Customer mentioned possibly wanting a bigger option for the same price.\"\n"
          ]
        }
      ],
      "source": [
        "prompt = f\"\"\"\n",
        "Your task is to extract relevant information from \\\n",
        "a product review from an ecommerce site to give \\\n",
        "feedback to the Shipping department.\n",
        "\n",
        "From the review below, delimited by triple quotes \\\n",
        "extract the information relevant to shipping and \\\n",
        "delivery. Limit to 30 words.\n",
        "\n",
        "Review: ```{prod_review}```\n",
        "\"\"\"\n",
        "\n",
        "response = get_completion(prompt)\n",
        "print(response)"
      ]
    },
    {
      "cell_type": "code",
      "execution_count": 10,
      "metadata": {
        "colab": {
          "base_uri": "https://localhost:8080/"
        },
        "id": "4qoykDtCpHgL",
        "outputId": "ffd44d90-3aef-46da-acf9-c0667724d404"
      },
      "outputs": [
        {
          "name": "stdout",
          "output_type": "stream",
          "text": [
            "Summary: The panda plush is soft, cute, and beloved by a child. However, its small size may not justify the price compared to larger alternatives at the same price point.\n"
          ]
        }
      ],
      "source": [
        "prompt = f\"\"\"\n",
        "Your task is to generate a short summary of a product \\\n",
        "review from an ecommerce site to give feedback to the \\\n",
        "pricing deparmtment, responsible for determining the \\\n",
        "price of the product.\n",
        "\n",
        "Summarize the review below, delimited by triple\n",
        "backticks, in at most 30 words, and focusing on any aspects \\\n",
        "that are relevant to the price and perceived value.\n",
        "\n",
        "Review: ```{prod_review}```\n",
        "\"\"\"\n",
        "\n",
        "response = get_completion(prompt)\n",
        "print(response)"
      ]
    },
    {
      "cell_type": "code",
      "execution_count": 11,
      "metadata": {
        "colab": {
          "base_uri": "https://localhost:8080/"
        },
        "id": "6FUV902jeKdF",
        "outputId": "cb59a88b-4966-4f46-c811-fcc093040935"
      },
      "outputs": [
        {
          "name": "stdout",
          "output_type": "stream",
          "text": [
            "<grandparent>: Just as a tree bends but does not break in the face of strong winds, resilience allows us to withstand hardships and bounce back stronger than before. Patience and resilience go hand in hand, cultivating strength and perseverance in the face of adversity.\n"
          ]
        }
      ],
      "source": [
        "# Few shot prompting\n",
        "\n",
        "prompt = f\"\"\"\n",
        "Your task is to answer in a consistent style.\n",
        "\n",
        "<child>: Teach me about patience.\n",
        "\n",
        "<grandparent>: The river that carves the deepest \\\n",
        "valley flows from a modest spring; the \\\n",
        "grandest symphony originates from a single note; \\\n",
        "the most intricate tapestry begins with a solitary thread.\n",
        "\n",
        "<child>: Teach me about resilience.\n",
        "\"\"\"\n",
        "response = get_completion(prompt)\n",
        "print(response)"
      ]
    },
    {
      "cell_type": "code",
      "execution_count": 12,
      "metadata": {
        "colab": {
          "base_uri": "https://localhost:8080/"
        },
        "id": "OY2Hj6wKhVYN",
        "outputId": "c8d61d13-179f-43bb-c46b-8208a4500122"
      },
      "outputs": [
        {
          "name": "stdout",
          "output_type": "stream",
          "text": [
            "สวัสดีตอนเช้าครับ ผมสามารถช่วยเหลือคุณอย่างไรในวันนี้ครับ?\n"
          ]
        }
      ],
      "source": [
        "# Transforming\n",
        "\n",
        "text = \"Good morning sir, how can I help you today?\"\n",
        "prompt = f\"\"\"Please translate the given English sentence into Thai.\n",
        "\n",
        "```{text}\n",
        "```\n",
        "\"\"\"\n",
        "response = get_completion(prompt)\n",
        "print(response)"
      ]
    },
    {
      "cell_type": "code",
      "execution_count": 13,
      "metadata": {
        "colab": {
          "base_uri": "https://localhost:8080/"
        },
        "id": "_mGLbYepmFkj",
        "outputId": "3e8eaa5e-fe6a-4c99-f17e-c3b3c09065f3"
      },
      "outputs": [
        {
          "name": "stdout",
          "output_type": "stream",
          "text": [
            "Dear Sir/Madam,\n",
            "\n",
            "I am writing to introduce myself as Joe, and I wanted to bring to your attention the specifications of a standing lamp that we currently have in our inventory. \n",
            "\n",
            "Thank you for your time and consideration.\n",
            "\n",
            "Sincerely,\n",
            "Joe\n"
          ]
        }
      ],
      "source": [
        "# Tone transformation\n",
        "\n",
        "prompt = f\"\"\"\n",
        "Translate the following from slang to a business letter:\n",
        "'Dude, This is Joe, check out this spec on this standing lamp.'\n",
        "\"\"\"\n",
        "response = get_completion(prompt)\n",
        "print(response)"
      ]
    },
    {
      "cell_type": "code",
      "execution_count": 14,
      "metadata": {
        "colab": {
          "base_uri": "https://localhost:8080/"
        },
        "id": "r5Gah39dhv6t",
        "outputId": "e9d38f3e-b56f-4929-8ef3-dc5d7f001509"
      },
      "outputs": [
        {
          "name": "stdout",
          "output_type": "stream",
          "text": [
            "คุณลูกค้าที่น่ารัก,\n",
            "\n",
            "ขอบคุณมากที่ให้ความคิดเห็นดีๆเกี่ยวกับสินค้าของเราครับ ทีมงานขออภัยหากมีปัญหาเกี่ยวกับการจัดส่ง โปรดติดต่อฝ่ายบริการลูกค้าเพื่อแก้ไขปัญหาให้ชัดเจนครับ\n",
            "\n",
            "ด้วยความเคารพ,\n",
            "AI customer agent\n"
          ]
        }
      ],
      "source": [
        "review = \"สวัสดีครับ อยากสอบถามเกี่ยวกับสินค้าที่สั่งไปว่าส่งเรียบร้อยมั้ยครับ พอดีสั่งไปตั้งแต่วันที่ 7 มกราคม ยังไม่เห็นจัดส่งครับผม รอมานานแล้วทำไมร้านดำเนินการช้า ไม่จัดส่งสักที\"\n",
        "prompt = f\"\"\"\n",
        "You are a customer service AI assistant that speaks Thai.\n",
        "Your task is to send an email reply to a valued customer.\n",
        "Given the customer email delimited by ```, \\\n",
        "Generate a reply to thank the customer for their review in Thai.\n",
        "If the sentiment is positive or neutral, thank them for \\\n",
        "their review.\n",
        "If the sentiment is negative, apologize and suggest that \\\n",
        "they can reach out to customer service.\n",
        "Make sure to use specific details from the review.\n",
        "Write in a concise and professional tone.\n",
        "Sign the email as `AI customer agent`.\n",
        "Customer review: ```{review}```\n",
        "\"\"\"\n",
        "response = get_completion(prompt)\n",
        "print(response)"
      ]
    },
    {
      "cell_type": "markdown",
      "metadata": {
        "id": "ebnfldTqlBpS"
      },
      "source": [
        "Limiations: Model might create text that might not be correct or related to real event."
      ]
    },
    {
      "cell_type": "code",
      "execution_count": 15,
      "metadata": {
        "colab": {
          "base_uri": "https://localhost:8080/"
        },
        "id": "rG0ZGGv_ftIs",
        "outputId": "9d828830-64e8-4b4a-ed2b-1b04989e0cca"
      },
      "outputs": [
        {
          "name": "stdout",
          "output_type": "stream",
          "text": [
            "งานศิลปะที่ทำจากขยะที่จัดขึ้นที่สีลม ปี พ.ศ. 2566 เป็นกิจกรรมที่เน้นการใช้วัสดุที่มีอยู่อย่างชัดเจน โดยใช้ขยะที่มีอยู่ในชุมชนและสนับสนุนการรักษาสิ่งแวดล้อม โปรเจคนี้เป็นการสร้างความตระหนักรู้ให้กับปัญหาขยะในชุมชน และสร้างผลงานศิลปะที่สวยงามและน่าสนใจจากขยะที่สร้างมลพิษ\n",
            "\n",
            "งานศิลปะที่สร้างจากขยะนี้มีความหลากหลายและสร้างความสนใจให้กับผู้ชม นอกจากนี้ยังสร้างโอกาสให้กับชุมชนท้องถิ่นมีโอกาสเรียนรู้เกี่ยวกับการนำขยะกลับมาใช้ใหม่ในการสร้างงานศิลปะ นอกจากนี้ยังช่วยเสริมสร้างความสำเร็จและความเข้มแข็งในชุมชนด้วยการทำงานร่วมกันเพื่อผสมผสานความคิดและความสามัคคีในกิจกรรมการสร้างงานศิลปะที่ใช้วัสดุขยะที่ทำในชุมชนและสร้างความเข้าใจในสิ่งแวดล้อมให้เกิดขึ้นในชุมชนให้มากยิ่งขึ้น\n"
          ]
        }
      ],
      "source": [
        "# Hallucination\n",
        "\n",
        "prompt = f\"\"\"\n",
        "Tell me about งานศิลปะที่ทำจากขยะที่จัดขึ้นที่สีลม ปี พ.ศ. 2566\n",
        "\"\"\"\n",
        "response = get_completion(prompt)\n",
        "print(response)"
      ]
    },
    {
      "cell_type": "markdown",
      "metadata": {
        "id": "PUXvPyC7mKIF"
      },
      "source": [
        "## Pricing\n",
        "\n",
        "- ChatGPT pricing https://openai.com/pricing\n",
        "\n",
        "## Alternative LLMs\n",
        "\n",
        "- SeaLLM (Alibaba DAMO) https://huggingface.co/spaces/SeaLLMs/SeaLLM-Chat-13b\n",
        "- Vertex AI (Google) https://cloud.google.com/vertex-ai?hl=en\n",
        "- And many more see [Chatbot Arena](https://chat.lmsys.org/)\n",
        "\n",
        "\n",
        "Read technical reports to gain more insight about each model"
      ]
    },
    {
      "cell_type": "code",
      "execution_count": null,
      "metadata": {
        "id": "L9j0zDVVhFOc"
      },
      "outputs": [],
      "source": []
    }
  ],
  "metadata": {
    "accelerator": "GPU",
    "colab": {
      "gpuType": "T4",
      "provenance": []
    },
    "kernelspec": {
      "display_name": "Python 3",
      "name": "python3"
    },
    "language_info": {
      "codemirror_mode": {
        "name": "ipython",
        "version": 3
      },
      "file_extension": ".py",
      "mimetype": "text/x-python",
      "name": "python",
      "nbconvert_exporter": "python",
      "pygments_lexer": "ipython3",
      "version": "3.11.8"
    }
  },
  "nbformat": 4,
  "nbformat_minor": 0
}
