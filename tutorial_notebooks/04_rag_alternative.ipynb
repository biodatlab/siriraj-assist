{
 "cells": [
  {
   "cell_type": "markdown",
   "metadata": {},
   "source": [
    "# RAG application for \"A Guide for First-Time Parents\"\n",
    "\n",
    "## Install tika and parse PDF file\n",
    "\n",
    "- Install libraries\n",
    "- Download PDF from the website [The Asian Parent](https://th.theasianparent.com/%E0%B8%84%E0%B8%B9%E0%B9%88%E0%B8%A1%E0%B8%B7%E0%B8%AD%E0%B8%94%E0%B8%B9%E0%B9%81%E0%B8%A5%E0%B8%A5%E0%B8%B9%E0%B8%81)\n",
    "- Create index using llama index\n",
    "- Clean text (using a simple created function)"
   ]
  },
  {
   "cell_type": "code",
   "execution_count": 13,
   "metadata": {},
   "outputs": [],
   "source": [
    "%%capture\n",
    "!pip install faker google-cloud-aiplatform\n",
    "!pip install llama-index-llms-vertex"
   ]
  },
  {
   "cell_type": "code",
   "execution_count": 64,
   "metadata": {},
   "outputs": [
    {
     "data": {
      "text/plain": [
       "86"
      ]
     },
     "execution_count": 64,
     "metadata": {},
     "output_type": "execute_result"
    }
   ],
   "source": [
    "from llama_index.core import VectorStoreIndex, SimpleDirectoryReader\n",
    "from llama_index.embeddings.openai import OpenAIEmbedding\n",
    "from llama_index.core import Settings\n",
    "from dotenv import load_dotenv\n",
    "load_dotenv()\n",
    "\n",
    "# global default\n",
    "Settings.embed_model = OpenAIEmbedding()\n",
    "\n",
    "documents = SimpleDirectoryReader(input_files=[\"baby_0_3.pdf\"]).load_data()\n",
    "\n",
    "len(documents)"
   ]
  },
  {
   "cell_type": "code",
   "execution_count": 93,
   "metadata": {},
   "outputs": [],
   "source": [
    "index = VectorStoreIndex.from_documents(documents)"
   ]
  },
  {
   "cell_type": "code",
   "execution_count": 92,
   "metadata": {},
   "outputs": [],
   "source": [
    "engine = index.as_query_engine()"
   ]
  },
  {
   "cell_type": "code",
   "execution_count": 83,
   "metadata": {},
   "outputs": [],
   "source": [
    "retriever = index.as_retriever()"
   ]
  },
  {
   "cell_type": "markdown",
   "metadata": {},
   "source": [
    "## Prompting using RAG\n",
    "\n",
    "- Embed text chunks with and store using `llama index`\n",
    "- Find the closest text chunks\n",
    "- Add information and perform RAG"
   ]
  },
  {
   "cell_type": "code",
   "execution_count": 84,
   "metadata": {},
   "outputs": [],
   "source": [
    "from google.oauth2 import service_account\n",
    "from google.cloud import aiplatform\n",
    "from vertexai.language_models import TextGenerationModel, TextEmbeddingModel\n",
    "\n",
    "service_account_path = \"service_account.json\"\n",
    "\n",
    "credentials = service_account.Credentials.from_service_account_file(service_account_path)\n",
    "aiplatform.init(project=credentials.project_id, credentials=credentials)"
   ]
  },
  {
   "cell_type": "code",
   "execution_count": 85,
   "metadata": {},
   "outputs": [],
   "source": [
    "question = \"ถ้าลูกดูดนิ้วต้องทำอย่างไรบ้าง\"\n",
    "\n",
    "nodes = retriever.retrieve(question)\n",
    "\n",
    "retrieved_chunk = [node.text for node in nodes]"
   ]
  },
  {
   "cell_type": "code",
   "execution_count": 86,
   "metadata": {},
   "outputs": [
    {
     "data": {
      "text/plain": [
       "'ลูกสามารถสื่อสารได้ว่าต้องการจะปัสสาวะหรืออุจจาระ\\t อาจเป็นการสื่อสารด้วยค�าพูดหรือ\\nใช้ท่าทาง\\t 6.\\t ลูกให้ความร่วมมือและอยากฝึกบนพื้นฐานของความต้องการเป็นตัวของตัวเองซึ่งสอดคล้องกับพัฒนาการของลูกวัยนี้\\t 7.\\t ฝึกภายใต้บรรยากาศและความสัมพันธ์อันดีระหว่างพ่อแม่และลูก\\n\\tขั้นตอนในการฝึกลูกขับถ่าย\\n\\t 1.\\t ใช้ค�าแทนการปัสสาวะหรืออุจจาระง่ายๆ\\tกับลูก\\tเช่น\\tฉี่\\tอึ\\tกระโถน\\tส้วม\\t\\t 2.\\t เปิดโอกาสให้ลูกได้มีส่วนร่วมในการเลือกวิธีการฝึก\\t เช่น\\tเลือกว่าจะนั่งกระโถนหรือนั่งชักโครก\\n\\t 3.\\t ในช่วงต้น\\t ควรสร้างความคุ้นเคยโดยให้ลูกนั่งกระโถนหรือส้วมโดยยังไม่ต้องถอดเสื้อผ้า\\t และ\\nพ่อแม่อาจลองนั่งให้ลูกดูเป็นตัวอย่าง \\tเมื่อคุ้นเคยแล้วเริ่มให้นั่งโดยถอดกางเกงและให้นั่งหลังมื้ออาหาร\\nอย่างสม�่าเสมอ\\t 4.\\t ให้ก�าลังใจและแสดงความชื่นชมเมื่อลูกท�าได้\\t อย่าเล็งผลเลิศในทันทีที่ฝึก\\t ไม่คาดคั้นลูกเมื่อ\\nลูกท�าไม่ได้\\t การฝึกขับถ่ายนั้นจะไม่มีการลงโทษหรือว่ากล่าวตักเตือนที่รุนแรง\\t เพราะนอกจากจะไม่เกิด\\nประโยชน์อันใดแล้วยังก่อให้เกิดโทษ \\tลูกจะต่อต้านและอาจเกิดปัญหากลั้นปัสสาวะหรือท้องผูกตามมา \\t\\nหากลูกปฏิเสธควรหยุดการฝึกไว้ก่อน\\tและเริ่มฝึกใหม่เมื่อลูกพร้อม\\nการเลี้ยงดูและการสร้างเสริมสุขภาพ'"
      ]
     },
     "execution_count": 86,
     "metadata": {},
     "output_type": "execute_result"
    }
   ],
   "source": [
    "retrieved_chunk[0]"
   ]
  },
  {
   "cell_type": "markdown",
   "metadata": {},
   "source": [
    "Compare the prompt with (RAG) and using llama index chat engine"
   ]
  },
  {
   "cell_type": "code",
   "execution_count": 87,
   "metadata": {},
   "outputs": [],
   "source": [
    "def complete_text(prompt: str):\n",
    "    gen_model = TextGenerationModel.from_pretrained(\"text-bison\")\n",
    "    prompt = \"You are a helpful assistant designed to generate output prompt for parent who are asking questions about newborn in Thai.\\n\" + prompt\n",
    "    \n",
    "    return gen_model.predict(prompt).text"
   ]
  },
  {
   "cell_type": "code",
   "execution_count": 88,
   "metadata": {},
   "outputs": [],
   "source": [
    "prompt_with_context = f\"\"\"\n",
    "Context information is below.\n",
    "---------------------\n",
    "{retrieved_chunk}\n",
    "---------------------\n",
    "Given the context information and not prior knowledge, answer the given query in Thai. The answer should be concise and clear.\n",
    "Query: {question}\n",
    "Answer:\n",
    "\"\"\"\n",
    "\n",
    "prompt_no_context = f\"\"\"\n",
    "Answer the given query in Thai. The answer should be concise and clear.\n",
    "Query: {question}\n",
    "Answer:\n",
    "\"\"\""
   ]
  },
  {
   "cell_type": "code",
   "execution_count": 89,
   "metadata": {},
   "outputs": [
    {
     "name": "stdout",
     "output_type": "stream",
     "text": [
      "ให้ลูกนิ้วต้องการดูดนิ้ว ควรสร้างการตอบสนองด้วยการสัมผัสอ่อนโยน และส่งเสริมการเรียนรู้ด้วยการให้ลูกจับนิ้วของคุณ โดยไม่ควรใช้นิ้วหรือวัตถุอื่นทดแทนในขณะที่ลูกต้องการดูดนิ้ว\n"
     ]
    }
   ],
   "source": [
    "output_no_rag = engine.query(question)\n",
    "print(output_no_rag)"
   ]
  },
  {
   "cell_type": "code",
   "execution_count": 90,
   "metadata": {},
   "outputs": [
    {
     "name": "stdout",
     "output_type": "stream",
     "text": [
      "\n"
     ]
    }
   ],
   "source": [
    "output_rag = complete_text(prompt_with_context)\n",
    "print(output_rag)"
   ]
  }
 ],
 "metadata": {
  "kernelspec": {
   "display_name": "rag_hackathon",
   "language": "python",
   "name": "python3"
  },
  "language_info": {
   "codemirror_mode": {
    "name": "ipython",
    "version": 3
   },
   "file_extension": ".py",
   "mimetype": "text/x-python",
   "name": "python",
   "nbconvert_exporter": "python",
   "pygments_lexer": "ipython3",
   "version": "3.11.8"
  }
 },
 "nbformat": 4,
 "nbformat_minor": 2
}
